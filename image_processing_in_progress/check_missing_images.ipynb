{
 "cells": [
  {
   "cell_type": "code",
   "execution_count": 1,
   "id": "de28fcd0",
   "metadata": {},
   "outputs": [],
   "source": [
    "import os"
   ]
  },
  {
   "cell_type": "code",
   "execution_count": 4,
   "id": "a64fac1b",
   "metadata": {},
   "outputs": [],
   "source": [
    "base_path = \"/user/christoph.wald/u15287/big-scratch/02_splitted_data/train_labeled\"\n",
    "\n",
    "subfolders = [\"images_uncropped\", \"labels_uncropped\", \"images_masked\", \"images_cropped\", \"labels_cropped\"]"
   ]
  },
  {
   "cell_type": "code",
   "execution_count": 7,
   "id": "9fdb59d9",
   "metadata": {},
   "outputs": [
    {
     "name": "stdout",
     "output_type": "stream",
     "text": [
      "618\n",
      "155\n"
     ]
    }
   ],
   "source": [
    "for s in subfolders:\n",
    "    path = os.path.join(base_path, s)\n",
    "    print(len(os.listdir(path)))"
   ]
  },
  {
   "cell_type": "code",
   "execution_count": 6,
   "id": "4e5e572c",
   "metadata": {},
   "outputs": [],
   "source": [
    "base_path = \"/user/christoph.wald/u15287/big-scratch/02_splitted_data/train_labeled/split/images\"\n",
    "subfolders = [\"train\", \"val\"]"
   ]
  },
  {
   "cell_type": "code",
   "execution_count": 10,
   "id": "74afa5c6",
   "metadata": {},
   "outputs": [
    {
     "data": {
      "text/plain": [
       "0.7994825355756792"
      ]
     },
     "execution_count": 10,
     "metadata": {},
     "output_type": "execute_result"
    }
   ],
   "source": [
    "618/(618+155)"
   ]
  },
  {
   "cell_type": "code",
   "execution_count": 11,
   "id": "f966e955",
   "metadata": {},
   "outputs": [
    {
     "data": {
      "text/plain": [
       "0.20051746442432083"
      ]
     },
     "execution_count": 11,
     "metadata": {},
     "output_type": "execute_result"
    }
   ],
   "source": [
    "155/(618+155)"
   ]
  },
  {
   "cell_type": "code",
   "execution_count": null,
   "id": "9f981282",
   "metadata": {},
   "outputs": [],
   "source": []
  }
 ],
 "metadata": {
  "kernelspec": {
   "display_name": "myenv3",
   "language": "python",
   "name": "python3"
  },
  "language_info": {
   "codemirror_mode": {
    "name": "ipython",
    "version": 3
   },
   "file_extension": ".py",
   "mimetype": "text/x-python",
   "name": "python",
   "nbconvert_exporter": "python",
   "pygments_lexer": "ipython3",
   "version": "3.11.6"
  }
 },
 "nbformat": 4,
 "nbformat_minor": 5
}
